{
  "nbformat": 4,
  "nbformat_minor": 0,
  "metadata": {
    "colab": {
      "provenance": [],
      "authorship_tag": "ABX9TyNOr5TQcZFjP8K1LkYWlI4I",
      "include_colab_link": true
    },
    "kernelspec": {
      "name": "python3",
      "display_name": "Python 3"
    },
    "language_info": {
      "name": "python"
    }
  },
  "cells": [
    {
      "cell_type": "markdown",
      "metadata": {
        "id": "view-in-github",
        "colab_type": "text"
      },
      "source": [
        "<a href=\"https://colab.research.google.com/github/JyunIm/portfolio/blob/main/%EA%B0%84%ED%8E%B8%EC%8B%9D_%ED%8C%90%EB%A7%A4_%EC%98%88%EC%B8%A1_%ED%94%84%EB%A1%9C%EC%A0%9D%ED%8A%B8.ipynb\" target=\"_parent\"><img src=\"https://colab.research.google.com/assets/colab-badge.svg\" alt=\"Open In Colab\"/></a>"
      ]
    },
    {
      "cell_type": "code",
      "source": [
        "!pip install xgboost\n",
        "!pip install lightgbm\n",
        "!pip install category_encoders"
      ],
      "metadata": {
        "colab": {
          "base_uri": "https://localhost:8080/"
        },
        "id": "923Ew-2lLCo0",
        "outputId": "c03514a6-68bb-45a3-9405-b7ee378e4f30"
      },
      "execution_count": 29,
      "outputs": [
        {
          "output_type": "stream",
          "name": "stdout",
          "text": [
            "Looking in indexes: https://pypi.org/simple, https://us-python.pkg.dev/colab-wheels/public/simple/\n",
            "Requirement already satisfied: xgboost in /usr/local/lib/python3.8/dist-packages (0.90)\n",
            "Requirement already satisfied: numpy in /usr/local/lib/python3.8/dist-packages (from xgboost) (1.22.4)\n",
            "Requirement already satisfied: scipy in /usr/local/lib/python3.8/dist-packages (from xgboost) (1.7.3)\n",
            "Looking in indexes: https://pypi.org/simple, https://us-python.pkg.dev/colab-wheels/public/simple/\n",
            "Requirement already satisfied: lightgbm in /usr/local/lib/python3.8/dist-packages (2.2.3)\n",
            "Requirement already satisfied: scikit-learn in /usr/local/lib/python3.8/dist-packages (from lightgbm) (1.0.2)\n",
            "Requirement already satisfied: scipy in /usr/local/lib/python3.8/dist-packages (from lightgbm) (1.7.3)\n",
            "Requirement already satisfied: numpy in /usr/local/lib/python3.8/dist-packages (from lightgbm) (1.22.4)\n",
            "Requirement already satisfied: joblib>=0.11 in /usr/local/lib/python3.8/dist-packages (from scikit-learn->lightgbm) (1.2.0)\n",
            "Requirement already satisfied: threadpoolctl>=2.0.0 in /usr/local/lib/python3.8/dist-packages (from scikit-learn->lightgbm) (3.1.0)\n",
            "Looking in indexes: https://pypi.org/simple, https://us-python.pkg.dev/colab-wheels/public/simple/\n",
            "Collecting category_encoders\n",
            "  Downloading category_encoders-2.6.0-py2.py3-none-any.whl (81 kB)\n",
            "\u001b[2K     \u001b[90m━━━━━━━━━━━━━━━━━━━━━━━━━━━━━━━━━━━━━━━━\u001b[0m \u001b[32m81.2/81.2 KB\u001b[0m \u001b[31m3.4 MB/s\u001b[0m eta \u001b[36m0:00:00\u001b[0m\n",
            "\u001b[?25hRequirement already satisfied: scipy>=1.0.0 in /usr/local/lib/python3.8/dist-packages (from category_encoders) (1.7.3)\n",
            "Requirement already satisfied: scikit-learn>=0.20.0 in /usr/local/lib/python3.8/dist-packages (from category_encoders) (1.0.2)\n",
            "Requirement already satisfied: statsmodels>=0.9.0 in /usr/local/lib/python3.8/dist-packages (from category_encoders) (0.12.2)\n",
            "Requirement already satisfied: patsy>=0.5.1 in /usr/local/lib/python3.8/dist-packages (from category_encoders) (0.5.3)\n",
            "Requirement already satisfied: numpy>=1.14.0 in /usr/local/lib/python3.8/dist-packages (from category_encoders) (1.22.4)\n",
            "Requirement already satisfied: pandas>=1.0.5 in /usr/local/lib/python3.8/dist-packages (from category_encoders) (1.3.5)\n",
            "Requirement already satisfied: python-dateutil>=2.7.3 in /usr/local/lib/python3.8/dist-packages (from pandas>=1.0.5->category_encoders) (2.8.2)\n",
            "Requirement already satisfied: pytz>=2017.3 in /usr/local/lib/python3.8/dist-packages (from pandas>=1.0.5->category_encoders) (2022.7.1)\n",
            "Requirement already satisfied: six in /usr/local/lib/python3.8/dist-packages (from patsy>=0.5.1->category_encoders) (1.15.0)\n",
            "Requirement already satisfied: threadpoolctl>=2.0.0 in /usr/local/lib/python3.8/dist-packages (from scikit-learn>=0.20.0->category_encoders) (3.1.0)\n",
            "Requirement already satisfied: joblib>=0.11 in /usr/local/lib/python3.8/dist-packages (from scikit-learn>=0.20.0->category_encoders) (1.2.0)\n",
            "Installing collected packages: category_encoders\n",
            "Successfully installed category_encoders-2.6.0\n"
          ]
        }
      ]
    },
    {
      "cell_type": "code",
      "execution_count": 75,
      "metadata": {
        "id": "CLX-P73rKuo0"
      },
      "outputs": [],
      "source": [
        "# 라이브러리 불러오기\n",
        "import pandas as pd\n",
        "import numpy as np\n",
        "import tensorflow as tf\n",
        "import seaborn as sns\n",
        "import matplotlib.pyplot as plt\n",
        "import random\n",
        "import warnings\n",
        "import os\n",
        "import re\n",
        "import psycopg2\n",
        "import pickle\n",
        "from category_encoders import TargetEncoder\n",
        "from sklearn.metrics import mean_absolute_error, mean_squared_error, r2_score\n",
        "from sklearn.model_selection import train_test_split, GridSearchCV, RandomizedSearchCV\n",
        "from sklearn.ensemble import RandomForestRegressor\n",
        "from sklearn.tree import DecisionTreeRegressor\n",
        "from xgboost import XGBRegressor\n",
        "from lightgbm import LGBMRegressor\n",
        "\n",
        "warnings.filterwarnings('ignore')"
      ]
    },
    {
      "cell_type": "code",
      "source": [
        "psycopg_host = 'ziggy.db.elephantsql.com'\n",
        "psycopg_db = 'jvmqfebg'\n",
        "psycopg_user = 'jvmqfebg'\n",
        "psycopg_password = 'i_9vGGyeUQ_odM5d82vc1X_xuS9JBvtS'"
      ],
      "metadata": {
        "id": "8cqWWlreMRzM"
      },
      "execution_count": 3,
      "outputs": []
    },
    {
      "cell_type": "code",
      "source": [
        "# DB에서 데이터 불러오기\n",
        "conn = psycopg2.connect(\n",
        "    host = psycopg_host,\n",
        "    database = psycopg_db,\n",
        "    user = psycopg_user,\n",
        "    password = psycopg_password\n",
        ")\n",
        "\n",
        "cur = conn.cursor()\n",
        "cur.execute('SELECT * FROM public.naver;')\n",
        "naver = cur.fetchall()\n",
        "cur.execute('SELECT * FROM public.store;')\n",
        "store = cur.fetchall()\n",
        "\n",
        "naver = np.array(naver)\n",
        "naver = pd.DataFrame(data=naver, columns = ['id','name','price','delivery_fee','category', 'etc'])\n",
        "store = np.array(store)\n",
        "store = pd.DataFrame(data=store, columns = ['id','name','review_star','menu','view_count','review_count','city'])\n",
        "\n"
      ],
      "metadata": {
        "id": "T6jgfPpFMXuE"
      },
      "execution_count": 4,
      "outputs": []
    },
    {
      "cell_type": "code",
      "source": [
        "# EDA 진행\n",
        "def eda(df):\n",
        "    df1 = df.copy()\n",
        "    df1['review'] = None\n",
        "    df1['sales'] = None\n",
        "    df1['price'] = df1['price'].str.replace(',','').str.extract(r'(\\d+)')\n",
        "    df1['delivery_fee'] = df1['delivery_fee'].str.replace(',','').str.extract(r'(\\d+)')\n",
        "    for i in range(len(df1)):\n",
        "        df1['category'][i] = df1['category'][i].replace('식품밀키트','')\n",
        "        df1['review'][i] = df1['etc'][i].split(' ')[0]\n",
        "        df1['sales'][i] = df1['etc'][i].split(' ')[-1]\n",
        "        if df1['sales'][i].find('구매건수'):\n",
        "            df1['sales'][i] = 0\n",
        "        else:\n",
        "            pass\n",
        "    df1['review'] = df1['review'].str.replace(',','').str.extract(r'(\\d+)')\n",
        "    df1['sales'] = df1['sales'].str.replace(',','').str.extract(r'(\\d+)')\n",
        "    df1.drop(columns='etc', inplace=True)\n",
        "    df1[['price','delivery_fee','review','sales']] = df1[['price','delivery_fee','review','sales']].astype(float)\n",
        "    df1[['delivery_fee','review','sales']] = df1[['delivery_fee','review','sales']].fillna(0)\n",
        "    df1.category = df1.category.map({'찌개/국':1, '간식/디저트':2, '볶음/튀김':3,'구이':4,'면/파스타':5})\n",
        "    df1['category'] = df1['category'].astype(int)\n",
        "    p = re.compile(r'[^ 가-힣]+')\n",
        "    for i in range(df1.shape[0]):\n",
        "       df1['name'][i] = re.sub(p, '', df1['name'][i]).split(' ')\n",
        "    df1['sales'] = df1['sales']/max(df1['sales'])\n",
        "    return df1\n",
        "\n",
        "# 불용어 사전 생성\n",
        "def make_stopwords(df):\n",
        "    data = df.copy()\n",
        "    data = data['name'].apply(lambda x : pd.Series(x)).stack().reset_index(1, name='name').drop('level_1', axis=1)\n",
        "    data_word = data['name'].value_counts()\n",
        "    data_word = pd.DataFrame(data_word)\n",
        "    if (data_word.quantile(0.95) / df.shape[0])[0] < 0.01 :\n",
        "        value = data_word.quantile(0.95)[0]\n",
        "        data_word = data_word.query(f'name < {value}')\n",
        "        data_word = list(data_word.index)\n",
        "    stopword = data_word + ['', '인분', '인', '밀키트']\n",
        "    return stopword\n",
        "\n",
        "# name column에서 불용어 제거 & 불용어가 제거된 keyword를 이어붙임\n",
        "def del_stopwords(df, stop) :\n",
        "    for i in range(df.shape[0]):\n",
        "        df['name'][i] = [word for word in df['name'][i] if word not in stop]\n",
        "        df['name'][i] = ','.join(df['name'][i])\n",
        "    temp = df['name'].str.split(',', expand=True).fillna(0)\n",
        "    df = pd.concat([df,temp], axis=1).drop('name', axis=1)\n",
        "    return df\n",
        "\n",
        "# 데이터를 train, val, test로 나누는 함수\n",
        "def data_split(df):\n",
        "    encoding = TargetEncoder()\n",
        "    target = 'sales'\n",
        "    train, test = train_test_split(df, test_size=0.2, random_state=42)\n",
        "    train, val = train_test_split(train, test_size=0.2, random_state=42)\n",
        "    X_train = train.drop(target, axis=1)\n",
        "    X_val = val.drop(target, axis=1)\n",
        "    X_test = test.drop(target, axis=1)\n",
        "    y_train = train[target]\n",
        "    y_val = val[target]\n",
        "    y_test = test[target]\n",
        "    X_train_enc = encoding.fit_transform(X_train, y_train)\n",
        "    X_val_enc = encoding.transform(X_val)\n",
        "    X_test_enc = encoding.transform(X_test)\n",
        "    return X_train_enc, y_train, X_val_enc, y_val, X_test_enc, y_test\n",
        "\n",
        "# 모델을 학습시키는 함수\n",
        "def model_train(X_t, y_t, X_v, y_v, model):\n",
        "    X_tr = X_t.copy()\n",
        "    y_tr = y_t.copy()\n",
        "    X_va = X_v.copy()\n",
        "    y_va = y_v.copy()\n",
        "    model.fit(X_tr, y_tr)\n",
        "    y_pred = model.predict(X_va)\n",
        "    print('MAE : ', mean_absolute_error(y_va, y_pred).round(2))\n",
        "    print('MSE : ', mean_squared_error(y_va, y_pred).round(2))\n",
        "    print('RMSE : ', (mean_squared_error(y_va, y_pred)**0.5).round(4))\n",
        "    print('R2 : ', r2_score(y_va, y_pred).round(2))"
      ],
      "metadata": {
        "id": "nFd4kzMqUDyQ"
      },
      "execution_count": 54,
      "outputs": []
    },
    {
      "cell_type": "code",
      "source": [
        "na = eda(naver)\n",
        "stopwords = make_stopwords(na)\n",
        "na = del_stopwords(na, stopwords)\n",
        "X_train_e, y_train, X_val_e, y_val, X_test_e, y_test = data_split(na)"
      ],
      "metadata": {
        "colab": {
          "base_uri": "https://localhost:8080/"
        },
        "id": "oATTXjXANab5",
        "outputId": "ba5d41b2-204d-44fb-aebd-b3aa29e7588d"
      },
      "execution_count": 55,
      "outputs": [
        {
          "output_type": "stream",
          "name": "stderr",
          "text": [
            "<ipython-input-54-66f25c5231e6>:25: SettingWithCopyWarning: \n",
            "A value is trying to be set on a copy of a slice from a DataFrame\n",
            "\n",
            "See the caveats in the documentation: https://pandas.pydata.org/pandas-docs/stable/user_guide/indexing.html#returning-a-view-versus-a-copy\n",
            "  df1['name'][i] = re.sub(p, '', df1['name'][i]).split(' ')\n",
            "<ipython-input-54-66f25c5231e6>:45: SettingWithCopyWarning: \n",
            "A value is trying to be set on a copy of a slice from a DataFrame\n",
            "\n",
            "See the caveats in the documentation: https://pandas.pydata.org/pandas-docs/stable/user_guide/indexing.html#returning-a-view-versus-a-copy\n",
            "  df['name'][i] = [word for word in df['name'][i] if word not in stop]\n",
            "<ipython-input-54-66f25c5231e6>:46: SettingWithCopyWarning: \n",
            "A value is trying to be set on a copy of a slice from a DataFrame\n",
            "\n",
            "See the caveats in the documentation: https://pandas.pydata.org/pandas-docs/stable/user_guide/indexing.html#returning-a-view-versus-a-copy\n",
            "  df['name'][i] = ','.join(df['name'][i])\n"
          ]
        }
      ]
    },
    {
      "cell_type": "code",
      "source": [
        "rf_model = RandomForestRegressor(random_state=42)\n",
        "dt_model = DecisionTreeRegressor(random_state=42)\n",
        "boo_model = XGBRegressor(eval_metric = 'rmse',random_state=42)\n",
        "light_model = LGBMRegressor(eval_metric = 'rmse',random_state=42)"
      ],
      "metadata": {
        "id": "EcgjXdLGNh93"
      },
      "execution_count": 56,
      "outputs": []
    },
    {
      "cell_type": "code",
      "source": [
        "print('\\nDecisionTree')\n",
        "model_train(X_train_e, y_train, X_val_e, y_val, rf_model)\n",
        "print('\\nRandomForest')\n",
        "model_train(X_train_e, y_train, X_val_e, y_val, dt_model)\n",
        "print('\\nXGB')\n",
        "model_train(X_train_e, y_train, X_val_e, y_val, boo_model)\n",
        "print('\\nLGBM')\n",
        "model_train(X_train_e, y_train, X_val_e, y_val, light_model)"
      ],
      "metadata": {
        "colab": {
          "base_uri": "https://localhost:8080/"
        },
        "id": "oF6UI-rURFvz",
        "outputId": "6de2e945-8feb-411a-e8f9-77463ecc271c"
      },
      "execution_count": 60,
      "outputs": [
        {
          "output_type": "stream",
          "name": "stdout",
          "text": [
            "\n",
            "DecisionTree\n",
            "MAE :  0.01\n",
            "MSE :  0.0\n",
            "RMSE :  0.0185\n",
            "R2 :  -0.01\n",
            "\n",
            "RandomForest\n",
            "MAE :  0.01\n",
            "MSE :  0.0\n",
            "RMSE :  0.0185\n",
            "R2 :  -0.01\n",
            "\n",
            "XGB\n",
            "[08:46:22] WARNING: /workspace/src/objective/regression_obj.cu:152: reg:linear is now deprecated in favor of reg:squarederror.\n",
            "MAE :  0.01\n",
            "MSE :  0.0\n",
            "RMSE :  0.0185\n",
            "R2 :  -0.01\n",
            "\n",
            "LGBM\n",
            "MAE :  0.01\n",
            "MSE :  0.0\n",
            "RMSE :  0.0172\n",
            "R2 :  0.13\n"
          ]
        }
      ]
    },
    {
      "cell_type": "code",
      "source": [
        "params = {'num_leaves' : [10, 20, 30, 40],\n",
        "          'min_data_in_leaf' : [100, 500, 1000], \n",
        "          'learning_rate' : [0.01, 0.02, 0.05, 0.1] }"
      ],
      "metadata": {
        "id": "AmaU3MX0xAOB"
      },
      "execution_count": 80,
      "outputs": []
    },
    {
      "cell_type": "code",
      "source": [
        "clf = GridSearchCV(\n",
        "   LGBMRegressor(random_state=42),\n",
        "   param_grid=params,\n",
        "   cv=3,\n",
        "   scoring='neg_mean_squared_error',\n",
        "   verbose=1,\n",
        "   n_jobs=-1 \n",
        ")\n",
        "\n",
        "clf.fit(X_train_e, y_train)\n",
        "print('최적 하이퍼파라미터 : ', clf.best_params_)"
      ],
      "metadata": {
        "colab": {
          "base_uri": "https://localhost:8080/"
        },
        "id": "RQKdcATszVcU",
        "outputId": "0414f944-65a8-4e90-e8df-2f68c1011de6"
      },
      "execution_count": 81,
      "outputs": [
        {
          "output_type": "stream",
          "name": "stdout",
          "text": [
            "Fitting 3 folds for each of 48 candidates, totalling 144 fits\n",
            "최적 하이퍼파라미터 :  {'learning_rate': 0.1, 'min_data_in_leaf': 100, 'num_leaves': 20}\n"
          ]
        }
      ]
    },
    {
      "cell_type": "code",
      "source": [
        "# 모델 선택 및 최종 결과 확인\n",
        "model = LGBMRegressor(learning_rate=0.1, min_data_in_leaf=100, \n",
        "                      num_leaves=20, random_state=42)\n",
        "model.fit(X_train_e, y_train)\n",
        "y_pred = model.predict(X_val_e)\n",
        "print(\"검증 데이터 성능 확인\")\n",
        "print('MAE : ', mean_absolute_error(y_val, y_pred).round(2))\n",
        "print('MSE : ', mean_squared_error(y_val, y_pred).round(2))\n",
        "print('RMSE : ', (mean_squared_error(y_val, y_pred)**0.5).round(2))\n",
        "print('R2 : ', r2_score(y_val, y_pred).round(2))\n",
        "y_pred = model.predict(X_test_e)\n",
        "print('\\n테스트 데이터 성능 확인')\n",
        "print('MAE : ', mean_absolute_error(y_test, y_pred).round(2))\n",
        "print('MSE : ', mean_squared_error(y_test, y_pred).round(2))\n",
        "print('RMSE : ', (mean_squared_error(y_test, y_pred)**0.5).round(2))\n",
        "print('R2 : ', r2_score(y_test, y_pred).round(2))\n",
        "\n",
        "\n",
        "# 모델 부호화\n",
        "with open('model.pkl', 'wb') as pickle_file :\n",
        "    pickle.dump(model, pickle_file)"
      ],
      "metadata": {
        "colab": {
          "base_uri": "https://localhost:8080/"
        },
        "id": "ykO4vXlLwLmB",
        "outputId": "ad39e02b-c27a-4465-f330-fc9460297142"
      },
      "execution_count": 83,
      "outputs": [
        {
          "output_type": "stream",
          "name": "stdout",
          "text": [
            "검증 데이터 성능 확인\n",
            "MAE :  0.01\n",
            "MSE :  0.0\n",
            "RMSE :  0.02\n",
            "R2 :  0.2\n",
            "\n",
            "테스트 데이터 성능 확인\n",
            "MAE :  0.01\n",
            "MSE :  0.0\n",
            "RMSE :  0.03\n",
            "R2 :  0.44\n"
          ]
        }
      ]
    }
  ]
}